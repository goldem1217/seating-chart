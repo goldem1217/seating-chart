{
 "cells": [
  {
   "cell_type": "code",
   "execution_count": 6,
   "id": "82dd6389",
   "metadata": {},
   "outputs": [
    {
     "name": "stdout",
     "output_type": "stream",
     "text": [
      "             Table 1          Table 2\n",
      "0       Giana Newman       Eva Henson\n",
      "1  Cheyenne Friedman      Angel Gomez\n",
      "2     Madilyn Zamora  Vivienne Booker\n",
      "3      Anderson Hail        Sela Hack\n",
      "4       Bellamy Pace  Meilani Andrews\n",
      "5         Andy Short    Elina Farrell\n",
      "6       Trevor Bates     Kynlee Bowen\n",
      "7   Dominik Castillo    Darwin Duarte\n",
      "8   Kayleigh Aguirre         Ty Singh\n",
      "9    Quentin Sampson                 \n"
     ]
    }
   ],
   "source": [
    "import pandas as pd\n",
    "import random\n",
    "\n",
    "# List of names\n",
    "names = [\"Sela Hack\",\"Angel Gomez\",\"Kayleigh Aguirre\", \"Andy Short\", \"Cheyenne Friedman\", \"Darwin Duarte\",\n",
    "         \"Kynlee Bowen\", \"Trevor Bates\", \"Madilyn Zamora\", \"Quentin Sampson\",\n",
    "         \"Meilani Andrews\",\"Elina Farrell\", \"Ty Singh\", \"Vivienne Booker\", \"Dominik Castillo\",\n",
    "         \"Eva Henson\", \"Bellamy Pace\", \"Giana Newman\", \"Anderson Hail\"]\n",
    "\n",
    "# Shuffle the list of names\n",
    "random.shuffle(names)\n",
    "\n",
    "# Split the names into tables\n",
    "tables = []\n",
    "while len(names) > 0:\n",
    "    table_size = min(10, len(names))\n",
    "    tables.append(names[:table_size])\n",
    "    names = names[table_size:]\n",
    "\n",
    "# Create a pandas dataframe from the tables\n",
    "df = pd.DataFrame()\n",
    "for i, table in enumerate(tables):\n",
    "    table_name = f\"Table {i+1}\"\n",
    "    table_df = pd.DataFrame({table_name: table})\n",
    "    df = pd.concat([df, table_df], axis=1)\n",
    "\n",
    "# Fill in any empty spaces in the dataframe with NaN\n",
    "df = df.fillna(\"\")\n",
    "\n",
    "# Display the resulting dataframe\n",
    "print(df)"
   ]
  },
  {
   "cell_type": "code",
   "execution_count": 7,
   "id": "83430ad2",
   "metadata": {},
   "outputs": [],
   "source": [
    "df.to_csv('seating_arrangement.csv', index=False)"
   ]
  },
  {
   "cell_type": "code",
   "execution_count": null,
   "id": "b4b6eeed",
   "metadata": {},
   "outputs": [],
   "source": []
  }
 ],
 "metadata": {
  "kernelspec": {
   "display_name": "Python 3 (ipykernel)",
   "language": "python",
   "name": "python3"
  },
  "language_info": {
   "codemirror_mode": {
    "name": "ipython",
    "version": 3
   },
   "file_extension": ".py",
   "mimetype": "text/x-python",
   "name": "python",
   "nbconvert_exporter": "python",
   "pygments_lexer": "ipython3",
   "version": "3.11.3"
  }
 },
 "nbformat": 4,
 "nbformat_minor": 5
}
